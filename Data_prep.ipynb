{
 "cells": [
  {
   "cell_type": "code",
   "execution_count": 1,
   "metadata": {},
   "outputs": [],
   "source": [
    "#Importation des librairy\n",
    "import numpy as np\n",
    "import pandas as pd\n",
    "import seaborn as sns"
   ]
  },
  {
   "cell_type": "markdown",
   "metadata": {},
   "source": [
    "# Création de la table population de 2012 à 2017\n",
    "L'importation de la table population c'est faite directement avex SQLlite en supprimant d'abord les \" du CSV télécharger sur le site de la FAO, puis en faisant une projection directement sur le logiciel de SQL. \n",
    "\n",
    "PK: code_pays , annee\n"
   ]
  },
  {
   "cell_type": "markdown",
   "metadata": {},
   "source": [
    "# Création des tables  dispo_alim et equilibre_prod \n",
    "# des données de 2012 à 2017 "
   ]
  },
  {
   "cell_type": "code",
   "execution_count": 2,
   "metadata": {},
   "outputs": [],
   "source": [
    "#importation des données de 2012 à 2017 6 fichiers car la FAO n'autorise pas une sélection importante\n",
    "veg1213 = pd.read_csv(r\"E:\\Openclassroom Data analyst\\Projet3\\Données projet 3\\données_SQL\\vege1213.csv\")\n",
    "ani1213 = pd.read_csv(r\"E:\\Openclassroom Data analyst\\Projet3\\Données projet 3\\données_SQL\\ani1213.csv\")\n",
    "veg1415 = pd.read_csv(r\"E:\\Openclassroom Data analyst\\Projet3\\Données projet 3\\données_SQL\\vege1415.csv\")\n",
    "ani1415 = pd.read_csv(r\"E:\\Openclassroom Data analyst\\Projet3\\Données projet 3\\données_SQL\\ani1415.csv\")\n",
    "veg1617 = pd.read_csv(r\"E:\\Openclassroom Data analyst\\Projet3\\Données projet 3\\données_SQL\\vege1617.csv\")\n",
    "ani1617 = pd.read_csv(r\"E:\\Openclassroom Data analyst\\Projet3\\Données projet 3\\données_SQL\\ani1617.csv\")"
   ]
  },
  {
   "cell_type": "code",
   "execution_count": 3,
   "metadata": {},
   "outputs": [],
   "source": [
    "#création de la colonne origine \n",
    "veg1213[\"origin\"] = \"vegetal\"\n",
    "ani1213[\"origin\"] = \"animal\"\n",
    "veg1415[\"origin\"] = \"vegetal\"\n",
    "ani1415[\"origin\"] = \"animal\"\n",
    "veg1617[\"origin\"] = \"vegetal\"\n",
    "ani1617[\"origin\"] = \"animal\""
   ]
  },
  {
   "cell_type": "code",
   "execution_count": 4,
   "metadata": {},
   "outputs": [
    {
     "data": {
      "text/html": [
       "<div>\n",
       "<style scoped>\n",
       "    .dataframe tbody tr th:only-of-type {\n",
       "        vertical-align: middle;\n",
       "    }\n",
       "\n",
       "    .dataframe tbody tr th {\n",
       "        vertical-align: top;\n",
       "    }\n",
       "\n",
       "    .dataframe thead th {\n",
       "        text-align: right;\n",
       "    }\n",
       "</style>\n",
       "<table border=\"1\" class=\"dataframe\">\n",
       "  <thead>\n",
       "    <tr style=\"text-align: right;\">\n",
       "      <th></th>\n",
       "      <th>Code Domaine</th>\n",
       "      <th>Domaine</th>\n",
       "      <th>Code zone</th>\n",
       "      <th>Zone</th>\n",
       "      <th>Code Élément</th>\n",
       "      <th>Élément</th>\n",
       "      <th>Code Produit</th>\n",
       "      <th>Produit</th>\n",
       "      <th>Code année</th>\n",
       "      <th>Année</th>\n",
       "      <th>Unité</th>\n",
       "      <th>Valeur</th>\n",
       "      <th>Symbole</th>\n",
       "      <th>Description du Symbole</th>\n",
       "      <th>origin</th>\n",
       "    </tr>\n",
       "  </thead>\n",
       "  <tbody>\n",
       "    <tr>\n",
       "      <th>0</th>\n",
       "      <td>FBSH</td>\n",
       "      <td>Bilans Alimentaire (Ancienne méthodologie et p...</td>\n",
       "      <td>2</td>\n",
       "      <td>Afghanistan</td>\n",
       "      <td>5301</td>\n",
       "      <td>Disponibilité intérieure</td>\n",
       "      <td>2511</td>\n",
       "      <td>Blé</td>\n",
       "      <td>2012</td>\n",
       "      <td>2012</td>\n",
       "      <td>Milliers de tonnes</td>\n",
       "      <td>5884.0</td>\n",
       "      <td>S</td>\n",
       "      <td>Données standardisées</td>\n",
       "      <td>vegetal</td>\n",
       "    </tr>\n",
       "    <tr>\n",
       "      <th>1</th>\n",
       "      <td>FBSH</td>\n",
       "      <td>Bilans Alimentaire (Ancienne méthodologie et p...</td>\n",
       "      <td>2</td>\n",
       "      <td>Afghanistan</td>\n",
       "      <td>5301</td>\n",
       "      <td>Disponibilité intérieure</td>\n",
       "      <td>2511</td>\n",
       "      <td>Blé</td>\n",
       "      <td>2013</td>\n",
       "      <td>2013</td>\n",
       "      <td>Milliers de tonnes</td>\n",
       "      <td>5992.0</td>\n",
       "      <td>S</td>\n",
       "      <td>Données standardisées</td>\n",
       "      <td>vegetal</td>\n",
       "    </tr>\n",
       "    <tr>\n",
       "      <th>2</th>\n",
       "      <td>FBSH</td>\n",
       "      <td>Bilans Alimentaire (Ancienne méthodologie et p...</td>\n",
       "      <td>2</td>\n",
       "      <td>Afghanistan</td>\n",
       "      <td>5527</td>\n",
       "      <td>Semences</td>\n",
       "      <td>2511</td>\n",
       "      <td>Blé</td>\n",
       "      <td>2012</td>\n",
       "      <td>2012</td>\n",
       "      <td>Milliers de tonnes</td>\n",
       "      <td>316.0</td>\n",
       "      <td>S</td>\n",
       "      <td>Données standardisées</td>\n",
       "      <td>vegetal</td>\n",
       "    </tr>\n",
       "    <tr>\n",
       "      <th>3</th>\n",
       "      <td>FBSH</td>\n",
       "      <td>Bilans Alimentaire (Ancienne méthodologie et p...</td>\n",
       "      <td>2</td>\n",
       "      <td>Afghanistan</td>\n",
       "      <td>5527</td>\n",
       "      <td>Semences</td>\n",
       "      <td>2511</td>\n",
       "      <td>Blé</td>\n",
       "      <td>2013</td>\n",
       "      <td>2013</td>\n",
       "      <td>Milliers de tonnes</td>\n",
       "      <td>322.0</td>\n",
       "      <td>S</td>\n",
       "      <td>Données standardisées</td>\n",
       "      <td>vegetal</td>\n",
       "    </tr>\n",
       "    <tr>\n",
       "      <th>4</th>\n",
       "      <td>FBSH</td>\n",
       "      <td>Bilans Alimentaire (Ancienne méthodologie et p...</td>\n",
       "      <td>2</td>\n",
       "      <td>Afghanistan</td>\n",
       "      <td>5123</td>\n",
       "      <td>Pertes</td>\n",
       "      <td>2511</td>\n",
       "      <td>Blé</td>\n",
       "      <td>2012</td>\n",
       "      <td>2012</td>\n",
       "      <td>Milliers de tonnes</td>\n",
       "      <td>758.0</td>\n",
       "      <td>S</td>\n",
       "      <td>Données standardisées</td>\n",
       "      <td>vegetal</td>\n",
       "    </tr>\n",
       "  </tbody>\n",
       "</table>\n",
       "</div>"
      ],
      "text/plain": [
       "  Code Domaine                                            Domaine  Code zone  \\\n",
       "0         FBSH  Bilans Alimentaire (Ancienne méthodologie et p...          2   \n",
       "1         FBSH  Bilans Alimentaire (Ancienne méthodologie et p...          2   \n",
       "2         FBSH  Bilans Alimentaire (Ancienne méthodologie et p...          2   \n",
       "3         FBSH  Bilans Alimentaire (Ancienne méthodologie et p...          2   \n",
       "4         FBSH  Bilans Alimentaire (Ancienne méthodologie et p...          2   \n",
       "\n",
       "          Zone  Code Élément                   Élément  Code Produit Produit  \\\n",
       "0  Afghanistan          5301  Disponibilité intérieure          2511     Blé   \n",
       "1  Afghanistan          5301  Disponibilité intérieure          2511     Blé   \n",
       "2  Afghanistan          5527                  Semences          2511     Blé   \n",
       "3  Afghanistan          5527                  Semences          2511     Blé   \n",
       "4  Afghanistan          5123                    Pertes          2511     Blé   \n",
       "\n",
       "   Code année  Année               Unité  Valeur Symbole  \\\n",
       "0        2012   2012  Milliers de tonnes  5884.0       S   \n",
       "1        2013   2013  Milliers de tonnes  5992.0       S   \n",
       "2        2012   2012  Milliers de tonnes   316.0       S   \n",
       "3        2013   2013  Milliers de tonnes   322.0       S   \n",
       "4        2012   2012  Milliers de tonnes   758.0       S   \n",
       "\n",
       "  Description du Symbole   origin  \n",
       "0  Données standardisées  vegetal  \n",
       "1  Données standardisées  vegetal  \n",
       "2  Données standardisées  vegetal  \n",
       "3  Données standardisées  vegetal  \n",
       "4  Données standardisées  vegetal  "
      ]
     },
     "execution_count": 4,
     "metadata": {},
     "output_type": "execute_result"
    }
   ],
   "source": [
    "#Union des tables\n",
    "temp = pd.concat([veg1213,ani1213,veg1415, ani1415,veg1617,ani1617])\n",
    "temp.head()"
   ]
  },
  {
   "cell_type": "code",
   "execution_count": 5,
   "metadata": {},
   "outputs": [],
   "source": [
    "#changement des noms de colonnes pour faire une agrégation plus lisible\n",
    "temp.columns = [\"xx\",\"xx1\",\"code_pays\",\"pays\",\"xx2\",\"element\",\n",
    "                \"code_produit\",\"produit\",'xx3',\"annee\",\"xx4\",\"value\",\"xx5\",\"xx6\",\"origine\"]\n"
   ]
  },
  {
   "cell_type": "code",
   "execution_count": 6,
   "metadata": {
    "scrolled": true
   },
   "outputs": [
    {
     "data": {
      "text/html": [
       "<div>\n",
       "<style scoped>\n",
       "    .dataframe tbody tr th:only-of-type {\n",
       "        vertical-align: middle;\n",
       "    }\n",
       "\n",
       "    .dataframe tbody tr th {\n",
       "        vertical-align: top;\n",
       "    }\n",
       "\n",
       "    .dataframe thead tr th {\n",
       "        text-align: left;\n",
       "    }\n",
       "\n",
       "    .dataframe thead tr:last-of-type th {\n",
       "        text-align: right;\n",
       "    }\n",
       "</style>\n",
       "<table border=\"1\" class=\"dataframe\">\n",
       "  <thead>\n",
       "    <tr>\n",
       "      <th></th>\n",
       "      <th></th>\n",
       "      <th></th>\n",
       "      <th></th>\n",
       "      <th></th>\n",
       "      <th></th>\n",
       "      <th colspan=\"11\" halign=\"left\">value</th>\n",
       "    </tr>\n",
       "    <tr>\n",
       "      <th></th>\n",
       "      <th></th>\n",
       "      <th></th>\n",
       "      <th></th>\n",
       "      <th></th>\n",
       "      <th>element</th>\n",
       "      <th>Aliments pour animaux</th>\n",
       "      <th>Autres utilisations (non alimentaire)</th>\n",
       "      <th>Disponibilité alimentaire (Kcal/personne/jour)</th>\n",
       "      <th>Disponibilité alimentaire en quantité (kg/personne/an)</th>\n",
       "      <th>Disponibilité de matière grasse en quantité (g/personne/jour)</th>\n",
       "      <th>Disponibilité de protéines en quantité (g/personne/jour)</th>\n",
       "      <th>Disponibilité intérieure</th>\n",
       "      <th>Nourriture</th>\n",
       "      <th>Pertes</th>\n",
       "      <th>Semences</th>\n",
       "      <th>Traitement</th>\n",
       "    </tr>\n",
       "    <tr>\n",
       "      <th>code_pays</th>\n",
       "      <th>pays</th>\n",
       "      <th>code_produit</th>\n",
       "      <th>produit</th>\n",
       "      <th>annee</th>\n",
       "      <th>origine</th>\n",
       "      <th></th>\n",
       "      <th></th>\n",
       "      <th></th>\n",
       "      <th></th>\n",
       "      <th></th>\n",
       "      <th></th>\n",
       "      <th></th>\n",
       "      <th></th>\n",
       "      <th></th>\n",
       "      <th></th>\n",
       "      <th></th>\n",
       "    </tr>\n",
       "  </thead>\n",
       "  <tbody>\n",
       "    <tr>\n",
       "      <th rowspan=\"5\" valign=\"top\">1</th>\n",
       "      <th rowspan=\"5\" valign=\"top\">Arménie</th>\n",
       "      <th rowspan=\"5\" valign=\"top\">2511</th>\n",
       "      <th rowspan=\"5\" valign=\"top\">Blé</th>\n",
       "      <th>2012</th>\n",
       "      <th>vegetal</th>\n",
       "      <td>92.0</td>\n",
       "      <td>0.0</td>\n",
       "      <td>995.0</td>\n",
       "      <td>126.94</td>\n",
       "      <td>3.53</td>\n",
       "      <td>29.69</td>\n",
       "      <td>532.0</td>\n",
       "      <td>377.0</td>\n",
       "      <td>29.0</td>\n",
       "      <td>23.0</td>\n",
       "      <td>10.0</td>\n",
       "    </tr>\n",
       "    <tr>\n",
       "      <th>2013</th>\n",
       "      <th>vegetal</th>\n",
       "      <td>93.0</td>\n",
       "      <td>0.0</td>\n",
       "      <td>1024.0</td>\n",
       "      <td>130.60</td>\n",
       "      <td>3.60</td>\n",
       "      <td>30.52</td>\n",
       "      <td>554.0</td>\n",
       "      <td>389.0</td>\n",
       "      <td>32.0</td>\n",
       "      <td>30.0</td>\n",
       "      <td>10.0</td>\n",
       "    </tr>\n",
       "    <tr>\n",
       "      <th>2014</th>\n",
       "      <th>vegetal</th>\n",
       "      <td>110.0</td>\n",
       "      <td>0.0</td>\n",
       "      <td>1039.0</td>\n",
       "      <td>130.58</td>\n",
       "      <td>3.69</td>\n",
       "      <td>30.98</td>\n",
       "      <td>639.0</td>\n",
       "      <td>380.0</td>\n",
       "      <td>30.0</td>\n",
       "      <td>32.0</td>\n",
       "      <td>61.0</td>\n",
       "    </tr>\n",
       "    <tr>\n",
       "      <th>2015</th>\n",
       "      <th>vegetal</th>\n",
       "      <td>125.0</td>\n",
       "      <td>0.0</td>\n",
       "      <td>1049.0</td>\n",
       "      <td>131.87</td>\n",
       "      <td>3.84</td>\n",
       "      <td>31.27</td>\n",
       "      <td>685.0</td>\n",
       "      <td>386.0</td>\n",
       "      <td>34.0</td>\n",
       "      <td>33.0</td>\n",
       "      <td>59.0</td>\n",
       "    </tr>\n",
       "    <tr>\n",
       "      <th>2016</th>\n",
       "      <th>vegetal</th>\n",
       "      <td>128.0</td>\n",
       "      <td>0.0</td>\n",
       "      <td>1057.0</td>\n",
       "      <td>133.12</td>\n",
       "      <td>3.90</td>\n",
       "      <td>31.50</td>\n",
       "      <td>650.0</td>\n",
       "      <td>391.0</td>\n",
       "      <td>20.0</td>\n",
       "      <td>33.0</td>\n",
       "      <td>61.0</td>\n",
       "    </tr>\n",
       "  </tbody>\n",
       "</table>\n",
       "</div>"
      ],
      "text/plain": [
       "                                                                     value  \\\n",
       "element                                              Aliments pour animaux   \n",
       "code_pays pays    code_produit produit annee origine                         \n",
       "1         Arménie 2511         Blé     2012  vegetal                  92.0   \n",
       "                                       2013  vegetal                  93.0   \n",
       "                                       2014  vegetal                 110.0   \n",
       "                                       2015  vegetal                 125.0   \n",
       "                                       2016  vegetal                 128.0   \n",
       "\n",
       "                                                                                            \\\n",
       "element                                              Autres utilisations (non alimentaire)   \n",
       "code_pays pays    code_produit produit annee origine                                         \n",
       "1         Arménie 2511         Blé     2012  vegetal                                   0.0   \n",
       "                                       2013  vegetal                                   0.0   \n",
       "                                       2014  vegetal                                   0.0   \n",
       "                                       2015  vegetal                                   0.0   \n",
       "                                       2016  vegetal                                   0.0   \n",
       "\n",
       "                                                                                                     \\\n",
       "element                                              Disponibilité alimentaire (Kcal/personne/jour)   \n",
       "code_pays pays    code_produit produit annee origine                                                  \n",
       "1         Arménie 2511         Blé     2012  vegetal                                          995.0   \n",
       "                                       2013  vegetal                                         1024.0   \n",
       "                                       2014  vegetal                                         1039.0   \n",
       "                                       2015  vegetal                                         1049.0   \n",
       "                                       2016  vegetal                                         1057.0   \n",
       "\n",
       "                                                                                                             \\\n",
       "element                                              Disponibilité alimentaire en quantité (kg/personne/an)   \n",
       "code_pays pays    code_produit produit annee origine                                                          \n",
       "1         Arménie 2511         Blé     2012  vegetal                                             126.94       \n",
       "                                       2013  vegetal                                             130.60       \n",
       "                                       2014  vegetal                                             130.58       \n",
       "                                       2015  vegetal                                             131.87       \n",
       "                                       2016  vegetal                                             133.12       \n",
       "\n",
       "                                                                                                                    \\\n",
       "element                                              Disponibilité de matière grasse en quantité (g/personne/jour)   \n",
       "code_pays pays    code_produit produit annee origine                                                                 \n",
       "1         Arménie 2511         Blé     2012  vegetal                                               3.53              \n",
       "                                       2013  vegetal                                               3.60              \n",
       "                                       2014  vegetal                                               3.69              \n",
       "                                       2015  vegetal                                               3.84              \n",
       "                                       2016  vegetal                                               3.90              \n",
       "\n",
       "                                                                                                               \\\n",
       "element                                              Disponibilité de protéines en quantité (g/personne/jour)   \n",
       "code_pays pays    code_produit produit annee origine                                                            \n",
       "1         Arménie 2511         Blé     2012  vegetal                                              29.69         \n",
       "                                       2013  vegetal                                              30.52         \n",
       "                                       2014  vegetal                                              30.98         \n",
       "                                       2015  vegetal                                              31.27         \n",
       "                                       2016  vegetal                                              31.50         \n",
       "\n",
       "                                                                               \\\n",
       "element                                              Disponibilité intérieure   \n",
       "code_pays pays    code_produit produit annee origine                            \n",
       "1         Arménie 2511         Blé     2012  vegetal                    532.0   \n",
       "                                       2013  vegetal                    554.0   \n",
       "                                       2014  vegetal                    639.0   \n",
       "                                       2015  vegetal                    685.0   \n",
       "                                       2016  vegetal                    650.0   \n",
       "\n",
       "                                                                        \\\n",
       "element                                              Nourriture Pertes   \n",
       "code_pays pays    code_produit produit annee origine                     \n",
       "1         Arménie 2511         Blé     2012  vegetal      377.0   29.0   \n",
       "                                       2013  vegetal      389.0   32.0   \n",
       "                                       2014  vegetal      380.0   30.0   \n",
       "                                       2015  vegetal      386.0   34.0   \n",
       "                                       2016  vegetal      391.0   20.0   \n",
       "\n",
       "                                                                          \n",
       "element                                              Semences Traitement  \n",
       "code_pays pays    code_produit produit annee origine                      \n",
       "1         Arménie 2511         Blé     2012  vegetal     23.0       10.0  \n",
       "                                       2013  vegetal     30.0       10.0  \n",
       "                                       2014  vegetal     32.0       61.0  \n",
       "                                       2015  vegetal     33.0       59.0  \n",
       "                                       2016  vegetal     33.0       61.0  "
      ]
     },
     "execution_count": 6,
     "metadata": {},
     "output_type": "execute_result"
    }
   ],
   "source": [
    "#création de la data par agrégation \n",
    "data = temp.pivot_table(\n",
    "    index=[\"code_pays\",\"pays\",\"code_produit\",\"produit\",\"annee\",\"origine\"],\n",
    "    columns = [\"element\"], values=[\"value\"], aggfunc=sum)\n",
    "data.head()"
   ]
  },
  {
   "cell_type": "code",
   "execution_count": 7,
   "metadata": {},
   "outputs": [],
   "source": [
    "#Rename des colonnes et resest index pour avoir une dataframe utilisable\n",
    "data.columns = ['alim_ani','autres_utilisations','dispo_alim_kcal_p_j',\n",
    "                'dipso_alim_kg_p_an','dispo_mat_gr_gpj','dispo_prot_gpj','dispo_int','nourriture',\"pertes\",\n",
    "               \"semences\",\"transfo\"]\n",
    "data = data.reset_index()"
   ]
  },
  {
   "cell_type": "code",
   "execution_count": 8,
   "metadata": {},
   "outputs": [],
   "source": [
    "#ajout de la colonne disponibilité alimentaire en tonnes\n",
    "data['dispo_alim_tonnes'] = data.nourriture*1000"
   ]
  },
  {
   "cell_type": "code",
   "execution_count": 9,
   "metadata": {},
   "outputs": [],
   "source": [
    "#selection des colonnes utiltes pour les dataframes\n",
    "dispo_alim = data[['pays', 'code_pays', 'annee', 'produit', 'code_produit', 'origine', 'dispo_alim_tonnes',\n",
    "                   'dispo_alim_kcal_p_j', 'dispo_prot_gpj', \"dispo_mat_gr_gpj\"]]\n",
    "equilibre_prod =  data[[\"pays\", \"code_pays\", \"annee\", \"produit\", \"code_produit\", \"dispo_int\",\n",
    "                        \"alim_ani\", \"semences\", \"pertes\", \"transfo\", \"nourriture\", \"autres_utilisations\"]]"
   ]
  },
  {
   "cell_type": "code",
   "execution_count": 10,
   "metadata": {},
   "outputs": [],
   "source": [
    "#exportation des données en CSV\n",
    "dispo_alim.to_csv(\"dispo_alim.csv\", index = False)\n",
    "equilibre_prod.to_csv(\"equilibre_prod.csv\", index = False)"
   ]
  },
  {
   "cell_type": "markdown",
   "metadata": {},
   "source": [
    "PK: code_pays,annee, cod_produit  \n",
    "Vérif PK : avec drop _duplicate et shape"
   ]
  },
  {
   "cell_type": "code",
   "execution_count": 11,
   "metadata": {},
   "outputs": [
    {
     "data": {
      "text/plain": [
       "(96078, 10)"
      ]
     },
     "execution_count": 11,
     "metadata": {},
     "output_type": "execute_result"
    }
   ],
   "source": [
    "dispo_alim.shape"
   ]
  },
  {
   "cell_type": "code",
   "execution_count": 12,
   "metadata": {},
   "outputs": [
    {
     "data": {
      "text/plain": [
       "(96078, 3)"
      ]
     },
     "execution_count": 12,
     "metadata": {},
     "output_type": "execute_result"
    }
   ],
   "source": [
    "verifpk = dispo_alim[[\"annee\",\"code_produit\",\"code_pays\"]]\n",
    "verifpk.drop_duplicates\n",
    "verifpk.shape"
   ]
  },
  {
   "cell_type": "markdown",
   "metadata": {},
   "source": [
    "# Création de la table  sous_nutrition des données de 2012 à 2017"
   ]
  },
  {
   "cell_type": "code",
   "execution_count": 13,
   "metadata": {
    "scrolled": true
   },
   "outputs": [],
   "source": [
    "#Importation du  CSV de la FOA\n",
    "sousNutri = pd.read_csv(r\"E:\\Openclassroom Data analyst\\Projet3\\Données projet 3\\données_SQL\\ssAlime1217.csv\")"
   ]
  },
  {
   "cell_type": "code",
   "execution_count": 14,
   "metadata": {},
   "outputs": [],
   "source": [
    "#renomme les colonnes \n",
    "sousNutri.columns=[\"domain_code\",\"domain\",\"code_pays\",\"pays\",\n",
    "                   \"element_code\",\"element\",\"item_code\",\"item\",\"year_code\",\n",
    "                   \"xx\",\"unit\",\"pop_sous_nourris_millions\",\"flag\",\"flag_description\",\"note\"]"
   ]
  },
  {
   "cell_type": "code",
   "execution_count": 15,
   "metadata": {},
   "outputs": [],
   "source": [
    "#Selection des pays avec de la sous-nutrition \n",
    "selecSousNutri = sousNutri[sousNutri['pop_sous_nourris_millions']!= '<0.1']"
   ]
  },
  {
   "cell_type": "code",
   "execution_count": 16,
   "metadata": {
    "scrolled": true
   },
   "outputs": [],
   "source": [
    "#conversion des données en numériques\n",
    "selecSousNutriBon = selecSousNutri.astype({'pop_sous_nourris_millions':'float'})\n"
   ]
  },
  {
   "cell_type": "code",
   "execution_count": 17,
   "metadata": {},
   "outputs": [],
   "source": [
    "#conversion des données en groupe de 1000 (même unité que la table population)\n",
    "selecSousNutriBon['nb_personnes']= selecSousNutriBon.pop_sous_nourris_millions*1000"
   ]
  },
  {
   "cell_type": "code",
   "execution_count": 18,
   "metadata": {},
   "outputs": [],
   "source": [
    "#Création d'une colonne annee\n",
    "selecSousNutriBon.loc[selecSousNutriBon[\"year_code\"]== 20112013, 'annee'] = 2012\n",
    "selecSousNutriBon.loc[selecSousNutriBon[\"year_code\"]== 20122014, 'annee'] = 2013\n",
    "selecSousNutriBon.loc[selecSousNutriBon[\"year_code\"]== 20132015, 'annee'] = 2014\n",
    "selecSousNutriBon.loc[selecSousNutriBon[\"year_code\"]== 20142016, 'annee'] = 2015\n",
    "selecSousNutriBon.loc[selecSousNutriBon[\"year_code\"]== 20152017, 'annee'] = 2016\n",
    "selecSousNutriBon.loc[selecSousNutriBon[\"year_code\"]== 20162018, 'annee'] = 2017\n",
    "selecSousNutriBon = selecSousNutriBon.reset_index()"
   ]
  },
  {
   "cell_type": "code",
   "execution_count": 19,
   "metadata": {},
   "outputs": [],
   "source": [
    "selecSousNutriBon = selecSousNutriBon[[\"pays\",\"code_pays\",\"annee\",\"nb_personnes\"]]"
   ]
  },
  {
   "cell_type": "code",
   "execution_count": 20,
   "metadata": {},
   "outputs": [],
   "source": [
    "selecSousNutriBon.to_csv(\"sous_nutrition.csv\", index = False)"
   ]
  },
  {
   "cell_type": "markdown",
   "metadata": {},
   "source": [
    "PK: annee, code_pays  \n",
    "Vérif PK : avec drop _duplicate et shape "
   ]
  },
  {
   "cell_type": "code",
   "execution_count": 21,
   "metadata": {},
   "outputs": [
    {
     "data": {
      "text/plain": [
       "(1087, 4)"
      ]
     },
     "execution_count": 21,
     "metadata": {},
     "output_type": "execute_result"
    }
   ],
   "source": [
    "selecSousNutriBon.shape"
   ]
  },
  {
   "cell_type": "code",
   "execution_count": 22,
   "metadata": {},
   "outputs": [
    {
     "data": {
      "text/plain": [
       "(1087, 2)"
      ]
     },
     "execution_count": 22,
     "metadata": {},
     "output_type": "execute_result"
    }
   ],
   "source": [
    "verifPKssnutri = selecSousNutriBon[[\"annee\",\"code_pays\"]]\n",
    "verifPKssnutri.drop_duplicates\n",
    "verifPKssnutri.shape"
   ]
  },
  {
   "cell_type": "code",
   "execution_count": null,
   "metadata": {},
   "outputs": [],
   "source": []
  }
 ],
 "metadata": {
  "kernelspec": {
   "display_name": "Python 3",
   "language": "python",
   "name": "python3"
  },
  "language_info": {
   "codemirror_mode": {
    "name": "ipython",
    "version": 3
   },
   "file_extension": ".py",
   "mimetype": "text/x-python",
   "name": "python",
   "nbconvert_exporter": "python",
   "pygments_lexer": "ipython3",
   "version": "3.7.6"
  },
  "toc": {
   "base_numbering": 1,
   "nav_menu": {},
   "number_sections": true,
   "sideBar": true,
   "skip_h1_title": false,
   "title_cell": "Table of Contents",
   "title_sidebar": "Contents",
   "toc_cell": false,
   "toc_position": {},
   "toc_section_display": true,
   "toc_window_display": false
  }
 },
 "nbformat": 4,
 "nbformat_minor": 4
}
